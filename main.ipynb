{
 "cells": [
  {
   "cell_type": "code",
   "execution_count": null,
   "metadata": {},
   "outputs": [],
   "source": [
    "import os\n",
    "import subprocess\n",
    "\n",
    "def trim(input:str, output:str, ss:float, t:float=0):\n",
    "    command = \"ffmpeg -y -loglevel error -ss {ss} -i {input} -t {t} {output}\".format(\n",
    "        ss=ss,\n",
    "        input=input,\n",
    "        t=t,\n",
    "        output=output\n",
    "    )\n",
    "    print(command)\n",
    "    subprocess.run(command.split(\" \"))\n",
    "\n",
    "    if os.path.exists(output):\n",
    "        return True\n",
    "    else:\n",
    "        return False\n",
    "\n",
    "def video_length(input:str):\n",
    "    command = \"ffprobe {input}\".format(\n",
    "        input=input\n",
    "    )\n",
    "    # subprocess.run(command.split(\" \"), stdout=)\n",
    "    output = subprocess.Popen(command.split(\" \"), stderr=subprocess.PIPE)\n",
    "    for line in output.stderr.readlines():\n",
    "        line = line.decode('utf-8')\n",
    "        if line.find(\"Duration\") >= 0:\n",
    "            print(line.rstrip())\n",
    "            time_str = line.split(\",\")[0].replace(\"Duration: \", \"\")\n",
    "            print()\n",
    "\n",
    "\n",
    "\n",
    "if __name__ == \"__main__\":\n",
    "    input=\"/Users/ryo/Downloads/VAAK_1stPV_noshopcar_180412.mp4\"\n",
    "    output=\"tmp.mp4\"\n",
    "    ss=5\n",
    "    t=2\n",
    "    # ret = trim(input, output, ss, t)\n",
    "    # print(ret)\n",
    "    video_length(output)"
   ]
  }
 ],
 "metadata": {
  "kernelspec": {
   "display_name": "Python 3 (Base Python)",
   "language": "python",
   "name": "python3__SAGEMAKER_INTERNAL__arn:aws:sagemaker:us-east-2:429704687514:environment/base-python"
  },
  "language_info": {
   "codemirror_mode": {
    "name": "ipython",
    "version": 3
   },
   "file_extension": ".py",
   "mimetype": "text/x-python",
   "name": "python",
   "nbconvert_exporter": "python",
   "pygments_lexer": "ipython3",
   "version": "3.6.9"
  }
 },
 "nbformat": 4,
 "nbformat_minor": 4
}
